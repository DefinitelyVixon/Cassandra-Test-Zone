{
 "cells": [
  {
   "cell_type": "code",
   "execution_count": 1,
   "outputs": [],
   "source": [
    "%reload_ext autoreload\n",
    "%autoreload 2"
   ],
   "metadata": {
    "collapsed": false,
    "pycharm": {
     "name": "#%%\n"
    }
   }
  },
  {
   "cell_type": "code",
   "execution_count": 2,
   "metadata": {
    "collapsed": true
   },
   "outputs": [
    {
     "name": "stderr",
     "output_type": "stream",
     "text": [
      "C:\\Users\\egeal\\AppData\\Local\\Temp\\ipykernel_5348\\2658742202.py:2: DeprecationWarning: Importing display from IPython.core.display is deprecated since IPython 7.14, please import from IPython display\n",
      "  from IPython.core.display import display\n"
     ]
    },
    {
     "name": "stdout",
     "output_type": "stream",
     "text": [
      "Session is ready.\n"
     ]
    }
   ],
   "source": [
    "from implementations import *\n",
    "from IPython.core.display import display\n",
    "import warnings\n",
    "\n",
    "\n",
    "warnings.filterwarnings('ignore')\n",
    "warnings.simplefilter('ignore')\n",
    "\n",
    "qm = QueryManager('test_keyspace')\n",
    "semesters = qm.semesters"
   ]
  },
  {
   "cell_type": "code",
   "execution_count": 3,
   "outputs": [],
   "source": [
    "dep_name = input('Enter the department name in Turkish:')\n",
    "dep_code = qm.dep_name_to_code[dep_name]"
   ],
   "metadata": {
    "collapsed": false,
    "pycharm": {
     "name": "#%%\n"
    }
   }
  },
  {
   "cell_type": "code",
   "execution_count": 4,
   "outputs": [],
   "source": [
    "selected_dfs = {}\n",
    "for semester in semesters:\n",
    "    semester_grades = qm.select(dep_code, semester).sort_values(by='gpa', ascending=False, ignore_index=True).head(5)\n",
    "    semester_grades['reg_year'] = semester_grades['reg_year'].astype(np.int32)\n",
    "    selected_dfs[semester] = semester_grades"
   ],
   "metadata": {
    "collapsed": false,
    "pycharm": {
     "name": "#%%\n"
    }
   }
  },
  {
   "cell_type": "markdown",
   "source": [
    "### I. 2019-2020 Fall"
   ],
   "metadata": {
    "collapsed": false,
    "pycharm": {
     "name": "#%% md\n"
    }
   }
  },
  {
   "cell_type": "code",
   "execution_count": 5,
   "outputs": [
    {
     "data": {
      "text/plain": "  dep_code semester   student_id   gpa  reg_year     student_name\n0     0602   19fall  20170602025  4.00      2017     OĞUZ SABİTAY\n1     0602   19fall  20180602026  3.91      2018  İLKER ATA ŞAHİN\n2     0602   19fall  20190602002  3.90      2019       EGE ALTIOK\n3     0602   19fall  20190602023  3.73      2019       YİĞİT İNAN\n4     0602   19fall  20190602011  3.70      2019       CEM CEYLAN",
      "text/html": "<div>\n<style scoped>\n    .dataframe tbody tr th:only-of-type {\n        vertical-align: middle;\n    }\n\n    .dataframe tbody tr th {\n        vertical-align: top;\n    }\n\n    .dataframe thead th {\n        text-align: right;\n    }\n</style>\n<table border=\"1\" class=\"dataframe\">\n  <thead>\n    <tr style=\"text-align: right;\">\n      <th></th>\n      <th>dep_code</th>\n      <th>semester</th>\n      <th>student_id</th>\n      <th>gpa</th>\n      <th>reg_year</th>\n      <th>student_name</th>\n    </tr>\n  </thead>\n  <tbody>\n    <tr>\n      <th>0</th>\n      <td>0602</td>\n      <td>19fall</td>\n      <td>20170602025</td>\n      <td>4.00</td>\n      <td>2017</td>\n      <td>OĞUZ SABİTAY</td>\n    </tr>\n    <tr>\n      <th>1</th>\n      <td>0602</td>\n      <td>19fall</td>\n      <td>20180602026</td>\n      <td>3.91</td>\n      <td>2018</td>\n      <td>İLKER ATA ŞAHİN</td>\n    </tr>\n    <tr>\n      <th>2</th>\n      <td>0602</td>\n      <td>19fall</td>\n      <td>20190602002</td>\n      <td>3.90</td>\n      <td>2019</td>\n      <td>EGE ALTIOK</td>\n    </tr>\n    <tr>\n      <th>3</th>\n      <td>0602</td>\n      <td>19fall</td>\n      <td>20190602023</td>\n      <td>3.73</td>\n      <td>2019</td>\n      <td>YİĞİT İNAN</td>\n    </tr>\n    <tr>\n      <th>4</th>\n      <td>0602</td>\n      <td>19fall</td>\n      <td>20190602011</td>\n      <td>3.70</td>\n      <td>2019</td>\n      <td>CEM CEYLAN</td>\n    </tr>\n  </tbody>\n</table>\n</div>"
     },
     "metadata": {},
     "output_type": "display_data"
    }
   ],
   "source": [
    "display(selected_dfs['19fall'])"
   ],
   "metadata": {
    "collapsed": false,
    "pycharm": {
     "name": "#%%\n"
    }
   }
  },
  {
   "cell_type": "markdown",
   "source": [
    "### II. 2019-2020 Spring"
   ],
   "metadata": {
    "collapsed": false,
    "pycharm": {
     "name": "#%% md\n"
    }
   }
  },
  {
   "cell_type": "code",
   "execution_count": 6,
   "outputs": [
    {
     "data": {
      "text/plain": "  dep_code  semester   student_id   gpa  reg_year  student_name\n0     0602  19spring  20190602018  3.79      2019   FERDA GÜNEŞ\n1     0602  19spring  20150602027  3.74      2015   CANSU ÖZKAN\n2     0602  19spring  20180602019  3.68      2018    EFE KAYLAK\n3     0602  19spring  20160602004  3.65      2016  MELİKE BİLEN\n4     0602  19spring  20190602022  3.65      2019      ECE IŞIK",
      "text/html": "<div>\n<style scoped>\n    .dataframe tbody tr th:only-of-type {\n        vertical-align: middle;\n    }\n\n    .dataframe tbody tr th {\n        vertical-align: top;\n    }\n\n    .dataframe thead th {\n        text-align: right;\n    }\n</style>\n<table border=\"1\" class=\"dataframe\">\n  <thead>\n    <tr style=\"text-align: right;\">\n      <th></th>\n      <th>dep_code</th>\n      <th>semester</th>\n      <th>student_id</th>\n      <th>gpa</th>\n      <th>reg_year</th>\n      <th>student_name</th>\n    </tr>\n  </thead>\n  <tbody>\n    <tr>\n      <th>0</th>\n      <td>0602</td>\n      <td>19spring</td>\n      <td>20190602018</td>\n      <td>3.79</td>\n      <td>2019</td>\n      <td>FERDA GÜNEŞ</td>\n    </tr>\n    <tr>\n      <th>1</th>\n      <td>0602</td>\n      <td>19spring</td>\n      <td>20150602027</td>\n      <td>3.74</td>\n      <td>2015</td>\n      <td>CANSU ÖZKAN</td>\n    </tr>\n    <tr>\n      <th>2</th>\n      <td>0602</td>\n      <td>19spring</td>\n      <td>20180602019</td>\n      <td>3.68</td>\n      <td>2018</td>\n      <td>EFE KAYLAK</td>\n    </tr>\n    <tr>\n      <th>3</th>\n      <td>0602</td>\n      <td>19spring</td>\n      <td>20160602004</td>\n      <td>3.65</td>\n      <td>2016</td>\n      <td>MELİKE BİLEN</td>\n    </tr>\n    <tr>\n      <th>4</th>\n      <td>0602</td>\n      <td>19spring</td>\n      <td>20190602022</td>\n      <td>3.65</td>\n      <td>2019</td>\n      <td>ECE IŞIK</td>\n    </tr>\n  </tbody>\n</table>\n</div>"
     },
     "metadata": {},
     "output_type": "display_data"
    }
   ],
   "source": [
    "display(selected_dfs['19spring'])"
   ],
   "metadata": {
    "collapsed": false,
    "pycharm": {
     "name": "#%%\n"
    }
   }
  },
  {
   "cell_type": "markdown",
   "source": [
    "### III. 2020-2021 Fall"
   ],
   "metadata": {
    "collapsed": false,
    "pycharm": {
     "name": "#%% md\n"
    }
   }
  },
  {
   "cell_type": "code",
   "execution_count": 7,
   "outputs": [
    {
     "data": {
      "text/plain": "  dep_code semester   student_id   gpa  reg_year         student_name\n0     0602   20fall  20170602025  4.00      2017         OĞUZ SABİTAY\n1     0602   20fall  20200602014  3.90      2020  FATMA MELİKE BUYRUK\n2     0602   20fall  20170602016  3.90      2017           ARDA GÜNAY\n3     0602   20fall  20200602035  3.88      2020  KUTSAL BARAN ÖZKURT\n4     0602   20fall  20160602004  3.87      2016         MELİKE BİLEN",
      "text/html": "<div>\n<style scoped>\n    .dataframe tbody tr th:only-of-type {\n        vertical-align: middle;\n    }\n\n    .dataframe tbody tr th {\n        vertical-align: top;\n    }\n\n    .dataframe thead th {\n        text-align: right;\n    }\n</style>\n<table border=\"1\" class=\"dataframe\">\n  <thead>\n    <tr style=\"text-align: right;\">\n      <th></th>\n      <th>dep_code</th>\n      <th>semester</th>\n      <th>student_id</th>\n      <th>gpa</th>\n      <th>reg_year</th>\n      <th>student_name</th>\n    </tr>\n  </thead>\n  <tbody>\n    <tr>\n      <th>0</th>\n      <td>0602</td>\n      <td>20fall</td>\n      <td>20170602025</td>\n      <td>4.00</td>\n      <td>2017</td>\n      <td>OĞUZ SABİTAY</td>\n    </tr>\n    <tr>\n      <th>1</th>\n      <td>0602</td>\n      <td>20fall</td>\n      <td>20200602014</td>\n      <td>3.90</td>\n      <td>2020</td>\n      <td>FATMA MELİKE BUYRUK</td>\n    </tr>\n    <tr>\n      <th>2</th>\n      <td>0602</td>\n      <td>20fall</td>\n      <td>20170602016</td>\n      <td>3.90</td>\n      <td>2017</td>\n      <td>ARDA GÜNAY</td>\n    </tr>\n    <tr>\n      <th>3</th>\n      <td>0602</td>\n      <td>20fall</td>\n      <td>20200602035</td>\n      <td>3.88</td>\n      <td>2020</td>\n      <td>KUTSAL BARAN ÖZKURT</td>\n    </tr>\n    <tr>\n      <th>4</th>\n      <td>0602</td>\n      <td>20fall</td>\n      <td>20160602004</td>\n      <td>3.87</td>\n      <td>2016</td>\n      <td>MELİKE BİLEN</td>\n    </tr>\n  </tbody>\n</table>\n</div>"
     },
     "metadata": {},
     "output_type": "display_data"
    }
   ],
   "source": [
    "display(selected_dfs['20fall'])"
   ],
   "metadata": {
    "collapsed": false,
    "pycharm": {
     "name": "#%%\n"
    }
   }
  },
  {
   "cell_type": "markdown",
   "source": [
    "### IV. 2020-2021 Spring"
   ],
   "metadata": {
    "collapsed": false
   }
  },
  {
   "cell_type": "code",
   "execution_count": 8,
   "outputs": [
    {
     "data": {
      "text/plain": "  dep_code  semester   student_id   gpa  reg_year       student_name\n0     0602  20spring  20180602018  4.00      2018  ZEYNEP BETÜL KAYA\n1     0602  20spring  20170602025  4.00      2017       OĞUZ SABİTAY\n2     0602  20spring  20170602016  3.95      2017         ARDA GÜNAY\n3     0602  20spring  20180602029  3.91      2018       BERKER UĞRAŞ\n4     0602  20spring  20190602022  3.73      2019           ECE IŞIK",
      "text/html": "<div>\n<style scoped>\n    .dataframe tbody tr th:only-of-type {\n        vertical-align: middle;\n    }\n\n    .dataframe tbody tr th {\n        vertical-align: top;\n    }\n\n    .dataframe thead th {\n        text-align: right;\n    }\n</style>\n<table border=\"1\" class=\"dataframe\">\n  <thead>\n    <tr style=\"text-align: right;\">\n      <th></th>\n      <th>dep_code</th>\n      <th>semester</th>\n      <th>student_id</th>\n      <th>gpa</th>\n      <th>reg_year</th>\n      <th>student_name</th>\n    </tr>\n  </thead>\n  <tbody>\n    <tr>\n      <th>0</th>\n      <td>0602</td>\n      <td>20spring</td>\n      <td>20180602018</td>\n      <td>4.00</td>\n      <td>2018</td>\n      <td>ZEYNEP BETÜL KAYA</td>\n    </tr>\n    <tr>\n      <th>1</th>\n      <td>0602</td>\n      <td>20spring</td>\n      <td>20170602025</td>\n      <td>4.00</td>\n      <td>2017</td>\n      <td>OĞUZ SABİTAY</td>\n    </tr>\n    <tr>\n      <th>2</th>\n      <td>0602</td>\n      <td>20spring</td>\n      <td>20170602016</td>\n      <td>3.95</td>\n      <td>2017</td>\n      <td>ARDA GÜNAY</td>\n    </tr>\n    <tr>\n      <th>3</th>\n      <td>0602</td>\n      <td>20spring</td>\n      <td>20180602029</td>\n      <td>3.91</td>\n      <td>2018</td>\n      <td>BERKER UĞRAŞ</td>\n    </tr>\n    <tr>\n      <th>4</th>\n      <td>0602</td>\n      <td>20spring</td>\n      <td>20190602022</td>\n      <td>3.73</td>\n      <td>2019</td>\n      <td>ECE IŞIK</td>\n    </tr>\n  </tbody>\n</table>\n</div>"
     },
     "metadata": {},
     "output_type": "display_data"
    }
   ],
   "source": [
    "display(selected_dfs['20spring'])"
   ],
   "metadata": {
    "collapsed": false,
    "pycharm": {
     "name": "#%%\n"
    }
   }
  },
  {
   "cell_type": "markdown",
   "source": [
    "### V. 2021-2022 Fall"
   ],
   "metadata": {
    "collapsed": false
   }
  },
  {
   "cell_type": "code",
   "execution_count": 9,
   "outputs": [
    {
     "data": {
      "text/plain": "  dep_code semester   student_id   gpa  reg_year       student_name\n0     0602   21fall  20210602014  4.00      2021         EFE BOYACİ\n1     0602   21fall  20180602018  3.91      2018  ZEYNEP BETÜL KAYA\n2     0602   21fall  20200602020  3.90      2020         EMRE DÜLEK\n3     0602   21fall  20200602026  3.90      2020         BERKE IŞIK\n4     0602   21fall  20200602033  3.90      2020          KAAN ÖZER",
      "text/html": "<div>\n<style scoped>\n    .dataframe tbody tr th:only-of-type {\n        vertical-align: middle;\n    }\n\n    .dataframe tbody tr th {\n        vertical-align: top;\n    }\n\n    .dataframe thead th {\n        text-align: right;\n    }\n</style>\n<table border=\"1\" class=\"dataframe\">\n  <thead>\n    <tr style=\"text-align: right;\">\n      <th></th>\n      <th>dep_code</th>\n      <th>semester</th>\n      <th>student_id</th>\n      <th>gpa</th>\n      <th>reg_year</th>\n      <th>student_name</th>\n    </tr>\n  </thead>\n  <tbody>\n    <tr>\n      <th>0</th>\n      <td>0602</td>\n      <td>21fall</td>\n      <td>20210602014</td>\n      <td>4.00</td>\n      <td>2021</td>\n      <td>EFE BOYACİ</td>\n    </tr>\n    <tr>\n      <th>1</th>\n      <td>0602</td>\n      <td>21fall</td>\n      <td>20180602018</td>\n      <td>3.91</td>\n      <td>2018</td>\n      <td>ZEYNEP BETÜL KAYA</td>\n    </tr>\n    <tr>\n      <th>2</th>\n      <td>0602</td>\n      <td>21fall</td>\n      <td>20200602020</td>\n      <td>3.90</td>\n      <td>2020</td>\n      <td>EMRE DÜLEK</td>\n    </tr>\n    <tr>\n      <th>3</th>\n      <td>0602</td>\n      <td>21fall</td>\n      <td>20200602026</td>\n      <td>3.90</td>\n      <td>2020</td>\n      <td>BERKE IŞIK</td>\n    </tr>\n    <tr>\n      <th>4</th>\n      <td>0602</td>\n      <td>21fall</td>\n      <td>20200602033</td>\n      <td>3.90</td>\n      <td>2020</td>\n      <td>KAAN ÖZER</td>\n    </tr>\n  </tbody>\n</table>\n</div>"
     },
     "metadata": {},
     "output_type": "display_data"
    }
   ],
   "source": [
    "display(selected_dfs['21fall'])"
   ],
   "metadata": {
    "collapsed": false,
    "pycharm": {
     "name": "#%%\n"
    }
   }
  }
 ],
 "metadata": {
  "kernelspec": {
   "display_name": "Python 3",
   "language": "python",
   "name": "python3"
  },
  "language_info": {
   "codemirror_mode": {
    "name": "ipython",
    "version": 2
   },
   "file_extension": ".py",
   "mimetype": "text/x-python",
   "name": "python",
   "nbconvert_exporter": "python",
   "pygments_lexer": "ipython2",
   "version": "2.7.6"
  }
 },
 "nbformat": 4,
 "nbformat_minor": 0
}