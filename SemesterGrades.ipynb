{
 "cells": [
  {
   "cell_type": "code",
   "execution_count": 29,
   "outputs": [],
   "source": [
    "%autoreload 2"
   ],
   "metadata": {
    "collapsed": false,
    "pycharm": {
     "name": "#%%\n"
    }
   }
  },
  {
   "cell_type": "code",
   "execution_count": 37,
   "metadata": {
    "collapsed": true
   },
   "outputs": [
    {
     "name": "stdout",
     "output_type": "stream",
     "text": [
      "Session is ready.\n"
     ]
    }
   ],
   "source": [
    "from implementations import *\n",
    "from IPython.core.display import display\n",
    "import warnings\n",
    "\n",
    "\n",
    "warnings.filterwarnings('ignore')\n",
    "warnings.simplefilter('ignore')\n",
    "\n",
    "qm = QueryManager('test_keyspace')\n",
    "semesters = qm.semesters"
   ]
  },
  {
   "cell_type": "code",
   "execution_count": 31,
   "outputs": [],
   "source": [
    "selected_dfs = {}\n",
    "for semester in semesters:\n",
    "    semester_grades = qm.select('0602', semester).sort_values(by='gpa', ascending=False, ignore_index=True).head(10)\n",
    "    semester_grades['reg_year'] = semester_grades['reg_year'].astype(np.int32)\n",
    "    selected_dfs[semester] = semester_grades"
   ],
   "metadata": {
    "collapsed": false,
    "pycharm": {
     "name": "#%%\n"
    }
   }
  },
  {
   "cell_type": "markdown",
   "source": [
    "## Computer Engineering\n",
    "\n",
    "### I. 2019-2020 Fall"
   ],
   "metadata": {
    "collapsed": false,
    "pycharm": {
     "name": "#%% md\n"
    }
   }
  },
  {
   "cell_type": "code",
   "execution_count": 32,
   "outputs": [
    {
     "data": {
      "text/plain": "  dep_code semester   student_id   gpa  reg_year            student_name\n0     0602   19fall  20170602025  4.00      2017            OĞUZ SABİTAY\n1     0602   19fall  20180602026  3.91      2018         İLKER ATA ŞAHİN\n2     0602   19fall  20190602002  3.90      2019              EGE ALTIOK\n3     0602   19fall  20190602023  3.73      2019              YİĞİT İNAN\n4     0602   19fall  20190602011  3.70      2019              CEM CEYLAN\n5     0602   19fall  20190602039  3.65      2019  FURKAN ZEKİ TÜRKZEYBEK\n6     0602   19fall  20190602022  3.65      2019                ECE IŞIK\n7     0602   19fall  20190602015  3.65      2019             KEMAL DOĞAN\n8     0602   19fall  20180602018  3.56      2018       ZEYNEP BETÜL KAYA\n9     0602   19fall  20160602013  3.47      2016               UTKU IŞIL",
      "text/html": "<div>\n<style scoped>\n    .dataframe tbody tr th:only-of-type {\n        vertical-align: middle;\n    }\n\n    .dataframe tbody tr th {\n        vertical-align: top;\n    }\n\n    .dataframe thead th {\n        text-align: right;\n    }\n</style>\n<table border=\"1\" class=\"dataframe\">\n  <thead>\n    <tr style=\"text-align: right;\">\n      <th></th>\n      <th>dep_code</th>\n      <th>semester</th>\n      <th>student_id</th>\n      <th>gpa</th>\n      <th>reg_year</th>\n      <th>student_name</th>\n    </tr>\n  </thead>\n  <tbody>\n    <tr>\n      <th>0</th>\n      <td>0602</td>\n      <td>19fall</td>\n      <td>20170602025</td>\n      <td>4.00</td>\n      <td>2017</td>\n      <td>OĞUZ SABİTAY</td>\n    </tr>\n    <tr>\n      <th>1</th>\n      <td>0602</td>\n      <td>19fall</td>\n      <td>20180602026</td>\n      <td>3.91</td>\n      <td>2018</td>\n      <td>İLKER ATA ŞAHİN</td>\n    </tr>\n    <tr>\n      <th>2</th>\n      <td>0602</td>\n      <td>19fall</td>\n      <td>20190602002</td>\n      <td>3.90</td>\n      <td>2019</td>\n      <td>EGE ALTIOK</td>\n    </tr>\n    <tr>\n      <th>3</th>\n      <td>0602</td>\n      <td>19fall</td>\n      <td>20190602023</td>\n      <td>3.73</td>\n      <td>2019</td>\n      <td>YİĞİT İNAN</td>\n    </tr>\n    <tr>\n      <th>4</th>\n      <td>0602</td>\n      <td>19fall</td>\n      <td>20190602011</td>\n      <td>3.70</td>\n      <td>2019</td>\n      <td>CEM CEYLAN</td>\n    </tr>\n    <tr>\n      <th>5</th>\n      <td>0602</td>\n      <td>19fall</td>\n      <td>20190602039</td>\n      <td>3.65</td>\n      <td>2019</td>\n      <td>FURKAN ZEKİ TÜRKZEYBEK</td>\n    </tr>\n    <tr>\n      <th>6</th>\n      <td>0602</td>\n      <td>19fall</td>\n      <td>20190602022</td>\n      <td>3.65</td>\n      <td>2019</td>\n      <td>ECE IŞIK</td>\n    </tr>\n    <tr>\n      <th>7</th>\n      <td>0602</td>\n      <td>19fall</td>\n      <td>20190602015</td>\n      <td>3.65</td>\n      <td>2019</td>\n      <td>KEMAL DOĞAN</td>\n    </tr>\n    <tr>\n      <th>8</th>\n      <td>0602</td>\n      <td>19fall</td>\n      <td>20180602018</td>\n      <td>3.56</td>\n      <td>2018</td>\n      <td>ZEYNEP BETÜL KAYA</td>\n    </tr>\n    <tr>\n      <th>9</th>\n      <td>0602</td>\n      <td>19fall</td>\n      <td>20160602013</td>\n      <td>3.47</td>\n      <td>2016</td>\n      <td>UTKU IŞIL</td>\n    </tr>\n  </tbody>\n</table>\n</div>"
     },
     "metadata": {},
     "output_type": "display_data"
    }
   ],
   "source": [
    "display(selected_dfs['19fall'])"
   ],
   "metadata": {
    "collapsed": false,
    "pycharm": {
     "name": "#%%\n"
    }
   }
  },
  {
   "cell_type": "markdown",
   "source": [
    "### II. 2019-2020 Spring"
   ],
   "metadata": {
    "collapsed": false,
    "pycharm": {
     "name": "#%% md\n"
    }
   }
  },
  {
   "cell_type": "code",
   "execution_count": 33,
   "outputs": [
    {
     "data": {
      "text/plain": "  dep_code  semester   student_id   gpa  reg_year             student_name\n0     0602  19spring  20190602018  3.79      2019              FERDA GÜNEŞ\n1     0602  19spring  20150602027  3.74      2015              CANSU ÖZKAN\n2     0602  19spring  20180602019  3.68      2018               EFE KAYLAK\n3     0602  19spring  20160602004  3.65      2016             MELİKE BİLEN\n4     0602  19spring  20190602022  3.65      2019                 ECE IŞIK\n5     0602  19spring  20160602021  3.63      2016            DORUK MALTEPE\n6     0602  19spring  20190602009  3.62      2019             EDANUR BEDER\n7     0602  19spring  20150602035  3.58      2015        CANBERK KAHYAOĞLU\n8     0602  19spring  20160602072  3.57      2016               ARİF AKKAŞ\n9     0602  19spring  20190602020  3.56      2019  MÜNEVVER İREM HATİPOĞLU",
      "text/html": "<div>\n<style scoped>\n    .dataframe tbody tr th:only-of-type {\n        vertical-align: middle;\n    }\n\n    .dataframe tbody tr th {\n        vertical-align: top;\n    }\n\n    .dataframe thead th {\n        text-align: right;\n    }\n</style>\n<table border=\"1\" class=\"dataframe\">\n  <thead>\n    <tr style=\"text-align: right;\">\n      <th></th>\n      <th>dep_code</th>\n      <th>semester</th>\n      <th>student_id</th>\n      <th>gpa</th>\n      <th>reg_year</th>\n      <th>student_name</th>\n    </tr>\n  </thead>\n  <tbody>\n    <tr>\n      <th>0</th>\n      <td>0602</td>\n      <td>19spring</td>\n      <td>20190602018</td>\n      <td>3.79</td>\n      <td>2019</td>\n      <td>FERDA GÜNEŞ</td>\n    </tr>\n    <tr>\n      <th>1</th>\n      <td>0602</td>\n      <td>19spring</td>\n      <td>20150602027</td>\n      <td>3.74</td>\n      <td>2015</td>\n      <td>CANSU ÖZKAN</td>\n    </tr>\n    <tr>\n      <th>2</th>\n      <td>0602</td>\n      <td>19spring</td>\n      <td>20180602019</td>\n      <td>3.68</td>\n      <td>2018</td>\n      <td>EFE KAYLAK</td>\n    </tr>\n    <tr>\n      <th>3</th>\n      <td>0602</td>\n      <td>19spring</td>\n      <td>20160602004</td>\n      <td>3.65</td>\n      <td>2016</td>\n      <td>MELİKE BİLEN</td>\n    </tr>\n    <tr>\n      <th>4</th>\n      <td>0602</td>\n      <td>19spring</td>\n      <td>20190602022</td>\n      <td>3.65</td>\n      <td>2019</td>\n      <td>ECE IŞIK</td>\n    </tr>\n    <tr>\n      <th>5</th>\n      <td>0602</td>\n      <td>19spring</td>\n      <td>20160602021</td>\n      <td>3.63</td>\n      <td>2016</td>\n      <td>DORUK MALTEPE</td>\n    </tr>\n    <tr>\n      <th>6</th>\n      <td>0602</td>\n      <td>19spring</td>\n      <td>20190602009</td>\n      <td>3.62</td>\n      <td>2019</td>\n      <td>EDANUR BEDER</td>\n    </tr>\n    <tr>\n      <th>7</th>\n      <td>0602</td>\n      <td>19spring</td>\n      <td>20150602035</td>\n      <td>3.58</td>\n      <td>2015</td>\n      <td>CANBERK KAHYAOĞLU</td>\n    </tr>\n    <tr>\n      <th>8</th>\n      <td>0602</td>\n      <td>19spring</td>\n      <td>20160602072</td>\n      <td>3.57</td>\n      <td>2016</td>\n      <td>ARİF AKKAŞ</td>\n    </tr>\n    <tr>\n      <th>9</th>\n      <td>0602</td>\n      <td>19spring</td>\n      <td>20190602020</td>\n      <td>3.56</td>\n      <td>2019</td>\n      <td>MÜNEVVER İREM HATİPOĞLU</td>\n    </tr>\n  </tbody>\n</table>\n</div>"
     },
     "metadata": {},
     "output_type": "display_data"
    }
   ],
   "source": [
    "display(selected_dfs['19spring'])"
   ],
   "metadata": {
    "collapsed": false,
    "pycharm": {
     "name": "#%%\n"
    }
   }
  },
  {
   "cell_type": "markdown",
   "source": [
    "### III. 2020-2021 Fall"
   ],
   "metadata": {
    "collapsed": false,
    "pycharm": {
     "name": "#%% md\n"
    }
   }
  },
  {
   "cell_type": "code",
   "execution_count": 34,
   "outputs": [
    {
     "data": {
      "text/plain": "  dep_code semester   student_id   gpa  reg_year         student_name\n0     0602   20fall  20170602025  4.00      2017         OĞUZ SABİTAY\n1     0602   20fall  20200602014  3.90      2020  FATMA MELİKE BUYRUK\n2     0602   20fall  20170602016  3.90      2017           ARDA GÜNAY\n3     0602   20fall  20200602035  3.88      2020  KUTSAL BARAN ÖZKURT\n4     0602   20fall  20160602004  3.87      2016         MELİKE BİLEN\n5     0602   20fall  20160602010  3.84      2016            ALİ GİLİM\n6     0602   20fall  20190602003  3.80      2019        BEYZA ALTUNER\n7     0602   20fall  20200602031  3.78      2020         ARDA KESTANE\n8     0602   20fall  20160602013  3.77      2016            UTKU IŞIL\n9     0602   20fall  20200602022  3.68      2020           EMRE EVCİN",
      "text/html": "<div>\n<style scoped>\n    .dataframe tbody tr th:only-of-type {\n        vertical-align: middle;\n    }\n\n    .dataframe tbody tr th {\n        vertical-align: top;\n    }\n\n    .dataframe thead th {\n        text-align: right;\n    }\n</style>\n<table border=\"1\" class=\"dataframe\">\n  <thead>\n    <tr style=\"text-align: right;\">\n      <th></th>\n      <th>dep_code</th>\n      <th>semester</th>\n      <th>student_id</th>\n      <th>gpa</th>\n      <th>reg_year</th>\n      <th>student_name</th>\n    </tr>\n  </thead>\n  <tbody>\n    <tr>\n      <th>0</th>\n      <td>0602</td>\n      <td>20fall</td>\n      <td>20170602025</td>\n      <td>4.00</td>\n      <td>2017</td>\n      <td>OĞUZ SABİTAY</td>\n    </tr>\n    <tr>\n      <th>1</th>\n      <td>0602</td>\n      <td>20fall</td>\n      <td>20200602014</td>\n      <td>3.90</td>\n      <td>2020</td>\n      <td>FATMA MELİKE BUYRUK</td>\n    </tr>\n    <tr>\n      <th>2</th>\n      <td>0602</td>\n      <td>20fall</td>\n      <td>20170602016</td>\n      <td>3.90</td>\n      <td>2017</td>\n      <td>ARDA GÜNAY</td>\n    </tr>\n    <tr>\n      <th>3</th>\n      <td>0602</td>\n      <td>20fall</td>\n      <td>20200602035</td>\n      <td>3.88</td>\n      <td>2020</td>\n      <td>KUTSAL BARAN ÖZKURT</td>\n    </tr>\n    <tr>\n      <th>4</th>\n      <td>0602</td>\n      <td>20fall</td>\n      <td>20160602004</td>\n      <td>3.87</td>\n      <td>2016</td>\n      <td>MELİKE BİLEN</td>\n    </tr>\n    <tr>\n      <th>5</th>\n      <td>0602</td>\n      <td>20fall</td>\n      <td>20160602010</td>\n      <td>3.84</td>\n      <td>2016</td>\n      <td>ALİ GİLİM</td>\n    </tr>\n    <tr>\n      <th>6</th>\n      <td>0602</td>\n      <td>20fall</td>\n      <td>20190602003</td>\n      <td>3.80</td>\n      <td>2019</td>\n      <td>BEYZA ALTUNER</td>\n    </tr>\n    <tr>\n      <th>7</th>\n      <td>0602</td>\n      <td>20fall</td>\n      <td>20200602031</td>\n      <td>3.78</td>\n      <td>2020</td>\n      <td>ARDA KESTANE</td>\n    </tr>\n    <tr>\n      <th>8</th>\n      <td>0602</td>\n      <td>20fall</td>\n      <td>20160602013</td>\n      <td>3.77</td>\n      <td>2016</td>\n      <td>UTKU IŞIL</td>\n    </tr>\n    <tr>\n      <th>9</th>\n      <td>0602</td>\n      <td>20fall</td>\n      <td>20200602022</td>\n      <td>3.68</td>\n      <td>2020</td>\n      <td>EMRE EVCİN</td>\n    </tr>\n  </tbody>\n</table>\n</div>"
     },
     "metadata": {},
     "output_type": "display_data"
    }
   ],
   "source": [
    "display(selected_dfs['20fall'])"
   ],
   "metadata": {
    "collapsed": false,
    "pycharm": {
     "name": "#%%\n"
    }
   }
  },
  {
   "cell_type": "markdown",
   "source": [
    "### IV. 2020-2021 Spring"
   ],
   "metadata": {
    "collapsed": false
   }
  },
  {
   "cell_type": "code",
   "execution_count": 35,
   "outputs": [
    {
     "data": {
      "text/plain": "  dep_code  semester   student_id   gpa  reg_year       student_name\n0     0602  20spring  20180602018  4.00      2018  ZEYNEP BETÜL KAYA\n1     0602  20spring  20170602025  4.00      2017       OĞUZ SABİTAY\n2     0602  20spring  20170602016  3.95      2017         ARDA GÜNAY\n3     0602  20spring  20180602029  3.91      2018       BERKER UĞRAŞ\n4     0602  20spring  20190602022  3.73      2019           ECE IŞIK\n5     0602  20spring  20160602021  3.69      2016      DORUK MALTEPE\n6     0602  20spring  20190602002  3.63      2019         EGE ALTIOK\n7     0602  20spring  20160602031  3.63      2016       ATAHAN TANIŞ\n8     0602  20spring  20190602019  3.44      2019     GİZEM HACIOĞLU\n9     0602  20spring  20200602020  3.44      2020         EMRE DÜLEK",
      "text/html": "<div>\n<style scoped>\n    .dataframe tbody tr th:only-of-type {\n        vertical-align: middle;\n    }\n\n    .dataframe tbody tr th {\n        vertical-align: top;\n    }\n\n    .dataframe thead th {\n        text-align: right;\n    }\n</style>\n<table border=\"1\" class=\"dataframe\">\n  <thead>\n    <tr style=\"text-align: right;\">\n      <th></th>\n      <th>dep_code</th>\n      <th>semester</th>\n      <th>student_id</th>\n      <th>gpa</th>\n      <th>reg_year</th>\n      <th>student_name</th>\n    </tr>\n  </thead>\n  <tbody>\n    <tr>\n      <th>0</th>\n      <td>0602</td>\n      <td>20spring</td>\n      <td>20180602018</td>\n      <td>4.00</td>\n      <td>2018</td>\n      <td>ZEYNEP BETÜL KAYA</td>\n    </tr>\n    <tr>\n      <th>1</th>\n      <td>0602</td>\n      <td>20spring</td>\n      <td>20170602025</td>\n      <td>4.00</td>\n      <td>2017</td>\n      <td>OĞUZ SABİTAY</td>\n    </tr>\n    <tr>\n      <th>2</th>\n      <td>0602</td>\n      <td>20spring</td>\n      <td>20170602016</td>\n      <td>3.95</td>\n      <td>2017</td>\n      <td>ARDA GÜNAY</td>\n    </tr>\n    <tr>\n      <th>3</th>\n      <td>0602</td>\n      <td>20spring</td>\n      <td>20180602029</td>\n      <td>3.91</td>\n      <td>2018</td>\n      <td>BERKER UĞRAŞ</td>\n    </tr>\n    <tr>\n      <th>4</th>\n      <td>0602</td>\n      <td>20spring</td>\n      <td>20190602022</td>\n      <td>3.73</td>\n      <td>2019</td>\n      <td>ECE IŞIK</td>\n    </tr>\n    <tr>\n      <th>5</th>\n      <td>0602</td>\n      <td>20spring</td>\n      <td>20160602021</td>\n      <td>3.69</td>\n      <td>2016</td>\n      <td>DORUK MALTEPE</td>\n    </tr>\n    <tr>\n      <th>6</th>\n      <td>0602</td>\n      <td>20spring</td>\n      <td>20190602002</td>\n      <td>3.63</td>\n      <td>2019</td>\n      <td>EGE ALTIOK</td>\n    </tr>\n    <tr>\n      <th>7</th>\n      <td>0602</td>\n      <td>20spring</td>\n      <td>20160602031</td>\n      <td>3.63</td>\n      <td>2016</td>\n      <td>ATAHAN TANIŞ</td>\n    </tr>\n    <tr>\n      <th>8</th>\n      <td>0602</td>\n      <td>20spring</td>\n      <td>20190602019</td>\n      <td>3.44</td>\n      <td>2019</td>\n      <td>GİZEM HACIOĞLU</td>\n    </tr>\n    <tr>\n      <th>9</th>\n      <td>0602</td>\n      <td>20spring</td>\n      <td>20200602020</td>\n      <td>3.44</td>\n      <td>2020</td>\n      <td>EMRE DÜLEK</td>\n    </tr>\n  </tbody>\n</table>\n</div>"
     },
     "metadata": {},
     "output_type": "display_data"
    }
   ],
   "source": [
    "display(selected_dfs['20spring'])"
   ],
   "metadata": {
    "collapsed": false,
    "pycharm": {
     "name": "#%%\n"
    }
   }
  },
  {
   "cell_type": "markdown",
   "source": [
    "### V. 2021-2022 Fall"
   ],
   "metadata": {
    "collapsed": false
   }
  },
  {
   "cell_type": "code",
   "execution_count": 36,
   "outputs": [
    {
     "data": {
      "text/plain": "  dep_code semester   student_id   gpa  reg_year         student_name\n0     0602   21fall  20210602014  4.00      2021           EFE BOYACİ\n1     0602   21fall  20180602018  3.91      2018    ZEYNEP BETÜL KAYA\n2     0602   21fall  20200602020  3.90      2020           EMRE DÜLEK\n3     0602   21fall  20200602026  3.90      2020           BERKE IŞIK\n4     0602   21fall  20200602033  3.90      2020            KAAN ÖZER\n5     0602   21fall  20200602045  3.87      2020      OĞUZ KAAN TAVUR\n6     0602   21fall  20180602004  3.84      2018         BERK BALYURT\n7     0602   21fall  20200602041  3.83      2020    HİLAL SİNEM SAYAR\n8     0602   21fall  20200602039  3.83      2020  NESİBE NUR PEKÇAKAR\n9     0602   21fall  20200602050  3.80      2020    TARIK TANER UYGÜL",
      "text/html": "<div>\n<style scoped>\n    .dataframe tbody tr th:only-of-type {\n        vertical-align: middle;\n    }\n\n    .dataframe tbody tr th {\n        vertical-align: top;\n    }\n\n    .dataframe thead th {\n        text-align: right;\n    }\n</style>\n<table border=\"1\" class=\"dataframe\">\n  <thead>\n    <tr style=\"text-align: right;\">\n      <th></th>\n      <th>dep_code</th>\n      <th>semester</th>\n      <th>student_id</th>\n      <th>gpa</th>\n      <th>reg_year</th>\n      <th>student_name</th>\n    </tr>\n  </thead>\n  <tbody>\n    <tr>\n      <th>0</th>\n      <td>0602</td>\n      <td>21fall</td>\n      <td>20210602014</td>\n      <td>4.00</td>\n      <td>2021</td>\n      <td>EFE BOYACİ</td>\n    </tr>\n    <tr>\n      <th>1</th>\n      <td>0602</td>\n      <td>21fall</td>\n      <td>20180602018</td>\n      <td>3.91</td>\n      <td>2018</td>\n      <td>ZEYNEP BETÜL KAYA</td>\n    </tr>\n    <tr>\n      <th>2</th>\n      <td>0602</td>\n      <td>21fall</td>\n      <td>20200602020</td>\n      <td>3.90</td>\n      <td>2020</td>\n      <td>EMRE DÜLEK</td>\n    </tr>\n    <tr>\n      <th>3</th>\n      <td>0602</td>\n      <td>21fall</td>\n      <td>20200602026</td>\n      <td>3.90</td>\n      <td>2020</td>\n      <td>BERKE IŞIK</td>\n    </tr>\n    <tr>\n      <th>4</th>\n      <td>0602</td>\n      <td>21fall</td>\n      <td>20200602033</td>\n      <td>3.90</td>\n      <td>2020</td>\n      <td>KAAN ÖZER</td>\n    </tr>\n    <tr>\n      <th>5</th>\n      <td>0602</td>\n      <td>21fall</td>\n      <td>20200602045</td>\n      <td>3.87</td>\n      <td>2020</td>\n      <td>OĞUZ KAAN TAVUR</td>\n    </tr>\n    <tr>\n      <th>6</th>\n      <td>0602</td>\n      <td>21fall</td>\n      <td>20180602004</td>\n      <td>3.84</td>\n      <td>2018</td>\n      <td>BERK BALYURT</td>\n    </tr>\n    <tr>\n      <th>7</th>\n      <td>0602</td>\n      <td>21fall</td>\n      <td>20200602041</td>\n      <td>3.83</td>\n      <td>2020</td>\n      <td>HİLAL SİNEM SAYAR</td>\n    </tr>\n    <tr>\n      <th>8</th>\n      <td>0602</td>\n      <td>21fall</td>\n      <td>20200602039</td>\n      <td>3.83</td>\n      <td>2020</td>\n      <td>NESİBE NUR PEKÇAKAR</td>\n    </tr>\n    <tr>\n      <th>9</th>\n      <td>0602</td>\n      <td>21fall</td>\n      <td>20200602050</td>\n      <td>3.80</td>\n      <td>2020</td>\n      <td>TARIK TANER UYGÜL</td>\n    </tr>\n  </tbody>\n</table>\n</div>"
     },
     "metadata": {},
     "output_type": "display_data"
    }
   ],
   "source": [
    "display(selected_dfs['21fall'])"
   ],
   "metadata": {
    "collapsed": false,
    "pycharm": {
     "name": "#%%\n"
    }
   }
  }
 ],
 "metadata": {
  "kernelspec": {
   "display_name": "Python 3",
   "language": "python",
   "name": "python3"
  },
  "language_info": {
   "codemirror_mode": {
    "name": "ipython",
    "version": 2
   },
   "file_extension": ".py",
   "mimetype": "text/x-python",
   "name": "python",
   "nbconvert_exporter": "python",
   "pygments_lexer": "ipython2",
   "version": "2.7.6"
  }
 },
 "nbformat": 4,
 "nbformat_minor": 0
}