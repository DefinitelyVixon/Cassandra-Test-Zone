{
 "cells": [
  {
   "cell_type": "code",
   "execution_count": 1,
   "outputs": [],
   "source": [
    "%reload_ext autoreload\n",
    "%autoreload 2"
   ],
   "metadata": {
    "collapsed": false,
    "pycharm": {
     "name": "#%%\n"
    }
   }
  },
  {
   "cell_type": "code",
   "execution_count": 2,
   "metadata": {
    "collapsed": true
   },
   "outputs": [
    {
     "name": "stdout",
     "output_type": "stream",
     "text": [
      "Session is ready.\n"
     ]
    }
   ],
   "source": [
    "from implementations import *\n",
    "from IPython.display import display\n",
    "import warnings\n",
    "\n",
    "\n",
    "warnings.filterwarnings('ignore')\n",
    "warnings.simplefilter('ignore')\n",
    "\n",
    "qm = QueryManager('test_keyspace')\n",
    "semesters = qm.semesters"
   ]
  },
  {
   "cell_type": "code",
   "execution_count": 3,
   "outputs": [],
   "source": [
    "dep_name = input('Enter the department name in Turkish:')\n",
    "dep_code = qm.dep_name_to_code[dep_name]"
   ],
   "metadata": {
    "collapsed": false,
    "pycharm": {
     "name": "#%%\n"
    }
   }
  },
  {
   "cell_type": "markdown",
   "source": [
    "Input = <a style='color:darkgreen;font-size:13px;background-color:lightgray;\n",
    "font-family:Consolas;padding:2px'>Bilgisayar Mühendisliği</a> is given."
   ],
   "metadata": {
    "collapsed": false,
    "pycharm": {
     "name": "#%% md\n"
    }
   }
  },
  {
   "cell_type": "code",
   "execution_count": 4,
   "outputs": [],
   "source": [
    "selected_dfs = {}\n",
    "for semester in semesters:\n",
    "    semester_grades = qm.select(dep_code, semester).head(5)\n",
    "    selected_dfs[semester] = semester_grades"
   ],
   "metadata": {
    "collapsed": false,
    "pycharm": {
     "name": "#%%\n"
    }
   }
  },
  {
   "cell_type": "markdown",
   "source": [
    "### I. 2019-2020 Fall"
   ],
   "metadata": {
    "collapsed": false,
    "pycharm": {
     "name": "#%% md\n"
    }
   }
  },
  {
   "cell_type": "code",
   "execution_count": 5,
   "outputs": [
    {
     "data": {
      "text/plain": "      student_name   gpa\n0     OĞUZ SABİTAY  4.00\n1  İLKER ATA ŞAHİN  3.91\n2       EGE ALTIOK  3.90\n3       YİĞİT İNAN  3.73\n4       CEM CEYLAN  3.70",
      "text/html": "<div>\n<style scoped>\n    .dataframe tbody tr th:only-of-type {\n        vertical-align: middle;\n    }\n\n    .dataframe tbody tr th {\n        vertical-align: top;\n    }\n\n    .dataframe thead th {\n        text-align: right;\n    }\n</style>\n<table border=\"1\" class=\"dataframe\">\n  <thead>\n    <tr style=\"text-align: right;\">\n      <th></th>\n      <th>student_name</th>\n      <th>gpa</th>\n    </tr>\n  </thead>\n  <tbody>\n    <tr>\n      <th>0</th>\n      <td>OĞUZ SABİTAY</td>\n      <td>4.00</td>\n    </tr>\n    <tr>\n      <th>1</th>\n      <td>İLKER ATA ŞAHİN</td>\n      <td>3.91</td>\n    </tr>\n    <tr>\n      <th>2</th>\n      <td>EGE ALTIOK</td>\n      <td>3.90</td>\n    </tr>\n    <tr>\n      <th>3</th>\n      <td>YİĞİT İNAN</td>\n      <td>3.73</td>\n    </tr>\n    <tr>\n      <th>4</th>\n      <td>CEM CEYLAN</td>\n      <td>3.70</td>\n    </tr>\n  </tbody>\n</table>\n</div>"
     },
     "metadata": {},
     "output_type": "display_data"
    }
   ],
   "source": [
    "display(selected_dfs['19fall'])"
   ],
   "metadata": {
    "collapsed": false,
    "pycharm": {
     "name": "#%%\n"
    }
   }
  },
  {
   "cell_type": "markdown",
   "source": [
    "### II. 2019-2020 Spring"
   ],
   "metadata": {
    "collapsed": false,
    "pycharm": {
     "name": "#%% md\n"
    }
   }
  },
  {
   "cell_type": "code",
   "execution_count": 6,
   "outputs": [
    {
     "data": {
      "text/plain": "   student_name   gpa\n0   FERDA GÜNEŞ  3.79\n1   CANSU ÖZKAN  3.74\n2    EFE KAYLAK  3.68\n3  MELİKE BİLEN  3.65\n4      ECE IŞIK  3.65",
      "text/html": "<div>\n<style scoped>\n    .dataframe tbody tr th:only-of-type {\n        vertical-align: middle;\n    }\n\n    .dataframe tbody tr th {\n        vertical-align: top;\n    }\n\n    .dataframe thead th {\n        text-align: right;\n    }\n</style>\n<table border=\"1\" class=\"dataframe\">\n  <thead>\n    <tr style=\"text-align: right;\">\n      <th></th>\n      <th>student_name</th>\n      <th>gpa</th>\n    </tr>\n  </thead>\n  <tbody>\n    <tr>\n      <th>0</th>\n      <td>FERDA GÜNEŞ</td>\n      <td>3.79</td>\n    </tr>\n    <tr>\n      <th>1</th>\n      <td>CANSU ÖZKAN</td>\n      <td>3.74</td>\n    </tr>\n    <tr>\n      <th>2</th>\n      <td>EFE KAYLAK</td>\n      <td>3.68</td>\n    </tr>\n    <tr>\n      <th>3</th>\n      <td>MELİKE BİLEN</td>\n      <td>3.65</td>\n    </tr>\n    <tr>\n      <th>4</th>\n      <td>ECE IŞIK</td>\n      <td>3.65</td>\n    </tr>\n  </tbody>\n</table>\n</div>"
     },
     "metadata": {},
     "output_type": "display_data"
    }
   ],
   "source": [
    "display(selected_dfs['19spring'])"
   ],
   "metadata": {
    "collapsed": false,
    "pycharm": {
     "name": "#%%\n"
    }
   }
  },
  {
   "cell_type": "markdown",
   "source": [
    "### III. 2020-2021 Fall"
   ],
   "metadata": {
    "collapsed": false,
    "pycharm": {
     "name": "#%% md\n"
    }
   }
  },
  {
   "cell_type": "code",
   "execution_count": 7,
   "outputs": [
    {
     "data": {
      "text/plain": "          student_name   gpa\n0         OĞUZ SABİTAY  4.00\n1  FATMA MELİKE BUYRUK  3.90\n2           ARDA GÜNAY  3.90\n3  KUTSAL BARAN ÖZKURT  3.88\n4         MELİKE BİLEN  3.87",
      "text/html": "<div>\n<style scoped>\n    .dataframe tbody tr th:only-of-type {\n        vertical-align: middle;\n    }\n\n    .dataframe tbody tr th {\n        vertical-align: top;\n    }\n\n    .dataframe thead th {\n        text-align: right;\n    }\n</style>\n<table border=\"1\" class=\"dataframe\">\n  <thead>\n    <tr style=\"text-align: right;\">\n      <th></th>\n      <th>student_name</th>\n      <th>gpa</th>\n    </tr>\n  </thead>\n  <tbody>\n    <tr>\n      <th>0</th>\n      <td>OĞUZ SABİTAY</td>\n      <td>4.00</td>\n    </tr>\n    <tr>\n      <th>1</th>\n      <td>FATMA MELİKE BUYRUK</td>\n      <td>3.90</td>\n    </tr>\n    <tr>\n      <th>2</th>\n      <td>ARDA GÜNAY</td>\n      <td>3.90</td>\n    </tr>\n    <tr>\n      <th>3</th>\n      <td>KUTSAL BARAN ÖZKURT</td>\n      <td>3.88</td>\n    </tr>\n    <tr>\n      <th>4</th>\n      <td>MELİKE BİLEN</td>\n      <td>3.87</td>\n    </tr>\n  </tbody>\n</table>\n</div>"
     },
     "metadata": {},
     "output_type": "display_data"
    }
   ],
   "source": [
    "display(selected_dfs['20fall'])"
   ],
   "metadata": {
    "collapsed": false,
    "pycharm": {
     "name": "#%%\n"
    }
   }
  },
  {
   "cell_type": "markdown",
   "source": [
    "### IV. 2020-2021 Spring"
   ],
   "metadata": {
    "collapsed": false
   }
  },
  {
   "cell_type": "code",
   "execution_count": 8,
   "outputs": [
    {
     "data": {
      "text/plain": "        student_name   gpa\n0  ZEYNEP BETÜL KAYA  4.00\n1       OĞUZ SABİTAY  4.00\n2         ARDA GÜNAY  3.95\n3       BERKER UĞRAŞ  3.91\n4           ECE IŞIK  3.73",
      "text/html": "<div>\n<style scoped>\n    .dataframe tbody tr th:only-of-type {\n        vertical-align: middle;\n    }\n\n    .dataframe tbody tr th {\n        vertical-align: top;\n    }\n\n    .dataframe thead th {\n        text-align: right;\n    }\n</style>\n<table border=\"1\" class=\"dataframe\">\n  <thead>\n    <tr style=\"text-align: right;\">\n      <th></th>\n      <th>student_name</th>\n      <th>gpa</th>\n    </tr>\n  </thead>\n  <tbody>\n    <tr>\n      <th>0</th>\n      <td>ZEYNEP BETÜL KAYA</td>\n      <td>4.00</td>\n    </tr>\n    <tr>\n      <th>1</th>\n      <td>OĞUZ SABİTAY</td>\n      <td>4.00</td>\n    </tr>\n    <tr>\n      <th>2</th>\n      <td>ARDA GÜNAY</td>\n      <td>3.95</td>\n    </tr>\n    <tr>\n      <th>3</th>\n      <td>BERKER UĞRAŞ</td>\n      <td>3.91</td>\n    </tr>\n    <tr>\n      <th>4</th>\n      <td>ECE IŞIK</td>\n      <td>3.73</td>\n    </tr>\n  </tbody>\n</table>\n</div>"
     },
     "metadata": {},
     "output_type": "display_data"
    }
   ],
   "source": [
    "display(selected_dfs['20spring'])"
   ],
   "metadata": {
    "collapsed": false,
    "pycharm": {
     "name": "#%%\n"
    }
   }
  },
  {
   "cell_type": "markdown",
   "source": [
    "### V. 2021-2022 Fall"
   ],
   "metadata": {
    "collapsed": false
   }
  },
  {
   "cell_type": "code",
   "execution_count": 9,
   "outputs": [
    {
     "data": {
      "text/plain": "        student_name   gpa\n0         EFE BOYACİ  4.00\n1  ZEYNEP BETÜL KAYA  3.91\n2         EMRE DÜLEK  3.90\n3         BERKE IŞIK  3.90\n4          KAAN ÖZER  3.90",
      "text/html": "<div>\n<style scoped>\n    .dataframe tbody tr th:only-of-type {\n        vertical-align: middle;\n    }\n\n    .dataframe tbody tr th {\n        vertical-align: top;\n    }\n\n    .dataframe thead th {\n        text-align: right;\n    }\n</style>\n<table border=\"1\" class=\"dataframe\">\n  <thead>\n    <tr style=\"text-align: right;\">\n      <th></th>\n      <th>student_name</th>\n      <th>gpa</th>\n    </tr>\n  </thead>\n  <tbody>\n    <tr>\n      <th>0</th>\n      <td>EFE BOYACİ</td>\n      <td>4.00</td>\n    </tr>\n    <tr>\n      <th>1</th>\n      <td>ZEYNEP BETÜL KAYA</td>\n      <td>3.91</td>\n    </tr>\n    <tr>\n      <th>2</th>\n      <td>EMRE DÜLEK</td>\n      <td>3.90</td>\n    </tr>\n    <tr>\n      <th>3</th>\n      <td>BERKE IŞIK</td>\n      <td>3.90</td>\n    </tr>\n    <tr>\n      <th>4</th>\n      <td>KAAN ÖZER</td>\n      <td>3.90</td>\n    </tr>\n  </tbody>\n</table>\n</div>"
     },
     "metadata": {},
     "output_type": "display_data"
    }
   ],
   "source": [
    "display(selected_dfs['21fall'])"
   ],
   "metadata": {
    "collapsed": false,
    "pycharm": {
     "name": "#%%\n"
    }
   }
  }
 ],
 "metadata": {
  "kernelspec": {
   "display_name": "Python 3",
   "language": "python",
   "name": "python3"
  },
  "language_info": {
   "codemirror_mode": {
    "name": "ipython",
    "version": 2
   },
   "file_extension": ".py",
   "mimetype": "text/x-python",
   "name": "python",
   "nbconvert_exporter": "python",
   "pygments_lexer": "ipython2",
   "version": "2.7.6"
  }
 },
 "nbformat": 4,
 "nbformat_minor": 0
}